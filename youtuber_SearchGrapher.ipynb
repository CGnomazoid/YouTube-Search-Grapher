{
 "cells": [
  {
   "attachments": {},
   "cell_type": "markdown",
   "metadata": {},
   "source": [
    "<h3>Script requires a library that can make requests to a server, if it isn't installed run:</h3>\n",
    "\n",
    "<ul>\n",
    "    <li><code>pip3 install json</code></li>\n",
    "</ul>\n",
    "\n",
    "<h3>To render out a graph of the data, I've included 3 different options. To try each you can run these commands to install the required libraries:</h3>\n",
    "<ul>\n",
    "    <li><code>pip3 install matplotlib</code></li>\n",
    "    <li><code>pip3 install plotly</code></li>\n",
    "    <li><code>pip3 install pygal</code></li>\n",
    "</ul>"
   ]
  },
  {
   "cell_type": "code",
   "execution_count": null,
   "metadata": {},
   "outputs": [],
   "source": [
    "import json\n",
    "import requests"
   ]
  },
  {
   "attachments": {},
   "cell_type": "markdown",
   "metadata": {},
   "source": [
    "<h3>Enter your Google Developer API Key here</h3>\n",
    "\n",
    "Go to <a href=\"https://developers.google.com\">YouTube's API Homepage</a> and create a new project. Then go to the credentials tab and create a new API key. Paste it as a string in <b style=\"color: rgb(51, 204, 255)\">API_KEY</b>.\n",
    "\n",
    "I set the default maximum of the number of videos to 50, but you can change this by changing the value of <b style=\"color: rgb(51, 204, 255)\">MAX_RESULTS</b>. You may hit limits going past 250 but I haven't tried."
   ]
  },
  {
   "cell_type": "code",
   "execution_count": null,
   "metadata": {},
   "outputs": [],
   "source": [
    "# API Key and Base URL:\n",
    "API_KEY = \"XXXXXXXXXXXXXXXXXXXXXXXXXX\"\n",
    "BASE_URL = \"https://www.googleapis.com/youtube/v3/playlistItems\"\n",
    "\n",
    "# To limit the number of results that are queried:\n",
    "MAX_RESULTS = 50"
   ]
  },
  {
   "cell_type": "code",
   "execution_count": null,
   "metadata": {},
   "outputs": [],
   "source": [
    "if(API_KEY == \"XXXXXXXXXXXXXXXXXXXXXXXXXX\"):\n",
    "    print(\"Looks like you forgot to enter your own API key- be sure to do that in line 2 of the previous cell.\")\n",
    "    quit()\n",
    "\n",
    "def search_playlist_videos(playlist_id, search_term):\n",
    "\n",
    "    params = {\n",
    "        \"part\": \"snippet\",\n",
    "        \"playlistId\": playlist_id,\n",
    "        \"maxResults\": MAX_RESULTS,\n",
    "        \"key\": API_KEY\n",
    "    }\n",
    "\n",
    "    # Takes the JSON response from the API and converts it to a Python dictionary:\n",
    "    res = requests.get(BASE_URL, params=params)\n",
    "    data = json.loads(res.text)\n",
    "\n",
    "    frequency = 0\n",
    "\n",
    "    # Loop through the data and add to the frequency if the search term is in the title:\n",
    "    for item in data[\"items\"]:\n",
    "        title = item[\"snippet\"][\"title\"]\n",
    "        video_id = item[\"snippet\"][\"resourceId\"][\"videoId\"]\n",
    "        video_url = f\"https://youtube.com/watch?v={video_id}\"\n",
    "        if search_term in title.lower():\n",
    "            frequency += 1\n",
    "            \n",
    "    return frequency"
   ]
  },
  {
   "attachments": {},
   "cell_type": "markdown",
   "metadata": {},
   "source": [
    "<h3>User facing interface</h3>"
   ]
  },
  {
   "cell_type": "code",
   "execution_count": null,
   "metadata": {},
   "outputs": [],
   "source": [
    "# Prompt user for some input and store it in a list:\n",
    "searchTerms = []\n",
    "\n",
    "while(1):\n",
    "    userInput = input(\"Enter some terms then type 'done' when finished: \")\n",
    "    if userInput == \"done\" or userInput == \"Done\":\n",
    "        break\n",
    "    elif (userInput != \"\"):\n",
    "        searchTerms.append(userInput)\n",
    "\n",
    "playlist = \"PLoSWVnSA9vG9qV0CVCpg5WwEy3LiP7udY\""
   ]
  },
  {
   "cell_type": "code",
   "execution_count": null,
   "metadata": {},
   "outputs": [],
   "source": [
    "# Search for the frequency of each search term in the playlist and append it to a new list:\n",
    "\n",
    "termFreq = []\n",
    "\n",
    "for term in searchTerms:\n",
    "    termFreq.append(search_playlist_videos(playlist, term.lower()))"
   ]
  },
  {
   "attachments": {},
   "cell_type": "markdown",
   "metadata": {},
   "source": [
    "<h2>Graphing Options:</h2>\n",
    "\n",
    "1. MATPLOTLIB (Simplest)\n",
    "2. Plotly (Widest)\n",
    "3. Save to a .SVG file (Prettiest)"
   ]
  },
  {
   "cell_type": "code",
   "execution_count": null,
   "metadata": {},
   "outputs": [],
   "source": [
    "import matplotlib.pyplot as plt\n",
    "\n",
    "plt.bar(searchTerms, termFreq)\n",
    "plt.title(\"Frequency of entered Search Terms in MrBeast Videos\")\n",
    "plt.show()"
   ]
  },
  {
   "cell_type": "code",
   "execution_count": null,
   "metadata": {},
   "outputs": [],
   "source": [
    "# See chart preview immediately:\n",
    "import plotly.graph_objects as go\n",
    "\n",
    "fig = go.Figure(\n",
    "    data=[go.Bar(x = searchTerms, y = termFreq)] , layout_title_text = \"Frequency of entered Search Terms in MrBeast Videos\"\n",
    ")\n",
    "\n",
    "fig.show()"
   ]
  },
  {
   "cell_type": "code",
   "execution_count": null,
   "metadata": {},
   "outputs": [],
   "source": [
    "# Save to an SVG file:\n",
    "import pygal\n",
    "frequencyChart = pygal.Bar()\n",
    "\n",
    "frequencyChart.title = \"Frequency of entered Search Terms in MrBeast Videos\"\n",
    "\n",
    "for x in range(len(searchTerms)):\n",
    "    frequencyChart.add(searchTerms[x], termFreq[x])\n",
    "\n",
    "frequencyChart.render_to_file('frequencyChart.svg')"
   ]
  }
 ],
 "metadata": {
  "kernelspec": {
   "display_name": "Python 3",
   "language": "python",
   "name": "python3"
  },
  "language_info": {
   "codemirror_mode": {
    "name": "ipython",
    "version": 3
   },
   "file_extension": ".py",
   "mimetype": "text/x-python",
   "name": "python",
   "nbconvert_exporter": "python",
   "pygments_lexer": "ipython3",
   "version": "3.11.1"
  },
  "orig_nbformat": 4,
  "vscode": {
   "interpreter": {
    "hash": "aee8b7b246df8f9039afb4144a1f6fd8d2ca17a180786b69acc140d282b71a49"
   }
  }
 },
 "nbformat": 4,
 "nbformat_minor": 2
}
